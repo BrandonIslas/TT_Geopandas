{
 "cells": [
  {
   "cell_type": "code",
   "execution_count": 1,
   "id": "charming-copper",
   "metadata": {},
   "outputs": [],
   "source": [
    "import geopandas as gpd\n",
    "from shapely.geometry import LineString\n",
    "coords = [(377205.43543222273, 2464301.85113062),\n",
    "        (377235.43946816603, 2464301.85113062),\n",
    "        (377235.43946816603, 2464241.855100152),\n",
    "        (377205.43543222273, 2464241.855100152),\n",
    "        (375315.1811677954, 2464391.8451763224),\n",
    "        (375285.1771318521, 2464331.8491458544),\n",
    "        (375225.1690599655, 2464331.8491458544),\n",
    "        (375165.1609880789, 2464361.8471610886)]\n",
    "\n",
    "aline = LineString(coords)\n",
    "bline = LineString([(c[0]+100, c[1]) for c in coords])\n",
    "d = {'col1': ['name1','name2'], 'geometry': [aline, bline]}\n",
    "df = gpd.GeoDataFrame(d, crs=\"EPSG:32618\") #(change epsg)\n",
    "df.to_file('lines1234.shp')"
   ]
  },
  {
   "cell_type": "code",
   "execution_count": 3,
   "id": "complimentary-bernard",
   "metadata": {},
   "outputs": [
    {
     "data": {
      "text/html": [
       "<div>\n",
       "<style scoped>\n",
       "    .dataframe tbody tr th:only-of-type {\n",
       "        vertical-align: middle;\n",
       "    }\n",
       "\n",
       "    .dataframe tbody tr th {\n",
       "        vertical-align: top;\n",
       "    }\n",
       "\n",
       "    .dataframe thead th {\n",
       "        text-align: right;\n",
       "    }\n",
       "</style>\n",
       "<table border=\"1\" class=\"dataframe\">\n",
       "  <thead>\n",
       "    <tr style=\"text-align: right;\">\n",
       "      <th></th>\n",
       "      <th>col1</th>\n",
       "      <th>geometry</th>\n",
       "    </tr>\n",
       "  </thead>\n",
       "  <tbody>\n",
       "    <tr>\n",
       "      <th>0</th>\n",
       "      <td>name1</td>\n",
       "      <td>LINESTRING (377205.435 2464301.851, 377235.439...</td>\n",
       "    </tr>\n",
       "    <tr>\n",
       "      <th>1</th>\n",
       "      <td>name2</td>\n",
       "      <td>LINESTRING (377305.435 2464301.851, 377335.439...</td>\n",
       "    </tr>\n",
       "  </tbody>\n",
       "</table>\n",
       "</div>"
      ],
      "text/plain": [
       "    col1                                           geometry\n",
       "0  name1  LINESTRING (377205.435 2464301.851, 377235.439...\n",
       "1  name2  LINESTRING (377305.435 2464301.851, 377335.439..."
      ]
     },
     "execution_count": 3,
     "metadata": {},
     "output_type": "execute_result"
    }
   ],
   "source": [
    "df = gpd.read_file(\"lines1234.shp\") \n",
    "df.head()"
   ]
  },
  {
   "cell_type": "code",
   "execution_count": null,
   "id": "pretty-signature",
   "metadata": {},
   "outputs": [],
   "source": []
  }
 ],
 "metadata": {
  "kernelspec": {
   "display_name": "Python 3",
   "language": "python",
   "name": "python3"
  },
  "language_info": {
   "codemirror_mode": {
    "name": "ipython",
    "version": 3
   },
   "file_extension": ".py",
   "mimetype": "text/x-python",
   "name": "python",
   "nbconvert_exporter": "python",
   "pygments_lexer": "ipython3",
   "version": "3.8.5"
  }
 },
 "nbformat": 4,
 "nbformat_minor": 5
}
