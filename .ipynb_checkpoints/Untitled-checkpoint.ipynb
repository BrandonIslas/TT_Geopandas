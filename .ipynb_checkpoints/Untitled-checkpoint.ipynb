{
 "cells": [
  {
   "cell_type": "code",
   "execution_count": null,
   "id": "contemporary-webster",
   "metadata": {},
   "outputs": [],
   "source": [
    "import geopandas as gpd\n",
    "from shapely.geometry import LineString\n",
    "coords = [(377205.43543222273, 2464301.85113062),\n",
    "        (377235.43946816603, 2464301.85113062),\n",
    "        (377235.43946816603, 2464241.855100152),\n",
    "        (377205.43543222273, 2464241.855100152),\n",
    "        (375315.1811677954, 2464391.8451763224),\n",
    "        (375285.1771318521, 2464331.8491458544),\n",
    "        (375225.1690599655, 2464331.8491458544),\n",
    "        (375165.1609880789, 2464361.8471610886)]\n",
    "\n",
    "aline = LineString(coords)\n",
    "bline = LineString([(c[0]+100, c[1]) for c in coords])\n",
    "d = {'col1': ['name1','name2'], 'geometry': [aline, bline]}\n",
    "df = gpd.GeoDataFrame(d, crs=\"EPSG:32618\") #(change epsg)\n",
    "df.to_file('lines1234.shp')"
   ]
  }
 ],
 "metadata": {
  "kernelspec": {
   "display_name": "Python 3",
   "language": "python",
   "name": "python3"
  },
  "language_info": {
   "codemirror_mode": {
    "name": "ipython",
    "version": 3
   },
   "file_extension": ".py",
   "mimetype": "text/x-python",
   "name": "python",
   "nbconvert_exporter": "python",
   "pygments_lexer": "ipython3",
   "version": "3.8.5"
  }
 },
 "nbformat": 4,
 "nbformat_minor": 5
}
